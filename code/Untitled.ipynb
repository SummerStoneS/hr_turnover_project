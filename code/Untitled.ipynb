{
 "cells": [
  {
   "cell_type": "code",
   "execution_count": 37,
   "id": "b10d223d",
   "metadata": {},
   "outputs": [],
   "source": [
    "import pandas as pd\n",
    "import glob\n",
    "import datetime"
   ]
  },
  {
   "cell_type": "code",
   "execution_count": 14,
   "id": "92ac9675",
   "metadata": {},
   "outputs": [],
   "source": [
    "used_columns_files = '数据逻辑梳理.xlsx'\n",
    "item_def = pd.read_excel(used_columns_files)"
   ]
  },
  {
   "cell_type": "code",
   "execution_count": 47,
   "id": "bfcffebc",
   "metadata": {},
   "outputs": [],
   "source": [
    "        cr_src = pd.DataFrame()\n",
    "        for year in [2018, 2019, 2020, 2021, 2022, 2023]:\n",
    "            cr_src_yr = pd.read_excel(\"data/PROCUREMENT_China_23 Nov.xlsx\", sheet_name=f\"{year}\")\n",
    "            cr_src_yr['year'] = year\n",
    "            cr_src = pd.concat([cr_src, cr_src_yr])"
   ]
  },
  {
   "cell_type": "code",
   "execution_count": 48,
   "id": "1abbb24b",
   "metadata": {},
   "outputs": [],
   "source": [
    "cr_src['ID'] = cr_src['ID'].astype(str).str.split('.').apply(lambda x: \"-\".join([str(list(x)[0]),str(list(x)[1])[:6]]))"
   ]
  },
  {
   "cell_type": "code",
   "execution_count": 50,
   "id": "1299ae2b",
   "metadata": {},
   "outputs": [
    {
     "name": "stdout",
     "output_type": "stream",
     "text": [
      "data\\Turnover Report_Procurement_201812_Final.xlsx\n",
      "data\\Turnover Report_Procurement_201912_Final.xlsx\n",
      "data\\Turnover Report_Procurement_202012-final-exclude DGO.xlsx\n",
      "data\\Turnover Report_Procurement_202112.xlsx\n",
      "data\\Turnover Report_Procurement_202212.xlsx\n",
      "data\\Turnover Report_Procurement_202310 APAC.xlsx\n"
     ]
    }
   ],
   "source": [
    "turnover_items = item_def['DB_TO_FTE_LIST'].tolist()\n",
    "turnover_files = glob.glob('data/Turnover*')\n",
    "turnover_data = pd.DataFrame()\n",
    "for i,file in enumerate(turnover_files):\n",
    "    print(file)\n",
    "    data = pd.read_excel(file, sheet_name='DB_TO_FTE_LIST')\n",
    "    data = data[turnover_items]\n",
    "    data['file_id'] = i\n",
    "    turnover_data = pd.concat([turnover_data, data])"
   ]
  },
  {
   "cell_type": "code",
   "execution_count": 51,
   "id": "a5b74ae4",
   "metadata": {},
   "outputs": [],
   "source": [
    "turnover_data['ID'] = turnover_data['ID'].astype(str).str.split('.').apply(lambda x: \"-\".join([str(list(x)[0]),str(list(x)[1])[:6]]))"
   ]
  },
  {
   "cell_type": "code",
   "execution_count": 3,
   "id": "35d09276",
   "metadata": {},
   "outputs": [],
   "source": [
    "movement = pd.read_excel('data/PROCUREMENT_China_23 Nov.xlsx')"
   ]
  },
  {
   "cell_type": "code",
   "execution_count": 25,
   "id": "95369b57",
   "metadata": {},
   "outputs": [],
   "source": [
    "movement['ID'] = movement.apply(lambda x: \"-\".join([str(x['ID1']),str(x['ID2'])]), axis=1)"
   ]
  },
  {
   "cell_type": "code",
   "execution_count": 27,
   "id": "0b6cc118",
   "metadata": {},
   "outputs": [
    {
     "data": {
      "text/plain": [
       "0      34508121-9572471\n",
       "1      34510267-8201798\n",
       "2      52650622-1929166\n",
       "3      52658359-1399952\n",
       "4      52691378-3306411\n",
       "             ...       \n",
       "606    52724869-7338338\n",
       "607    52724880-9998634\n",
       "608    63722125-5408532\n",
       "609    52724876-3056847\n",
       "610    52724886-6328774\n",
       "Name: ID, Length: 611, dtype: object"
      ]
     },
     "execution_count": 27,
     "metadata": {},
     "output_type": "execute_result"
    }
   ],
   "source": [
    "movement['ID']"
   ]
  },
  {
   "cell_type": "code",
   "execution_count": 10,
   "id": "85f93a13",
   "metadata": {},
   "outputs": [
    {
     "name": "stderr",
     "output_type": "stream",
     "text": [
      "C:\\Users\\28079083\\AppData\\Local\\Temp\\ipykernel_12836\\985957999.py:1: FutureWarning: Inferring datetime64[ns] from data containing strings is deprecated and will be removed in a future version. To retain the old behavior explicitly pass Series(data, dtype=datetime64[ns])\n",
      "  turnover_data = pd.read_excel('step_data/turnover_data.xlsx')\n"
     ]
    }
   ],
   "source": [
    "turnover_data = pd.read_excel('step_data/turnover_data.xlsx')"
   ]
  },
  {
   "cell_type": "code",
   "execution_count": 13,
   "id": "0a5dcb0d",
   "metadata": {},
   "outputs": [
    {
     "data": {
      "text/plain": [
       "0      [52665887, 2357789]\n",
       "1      [52666391, 0129865]\n",
       "2      [52691278, 7506866]\n",
       "3      [52691784, 1639811]\n",
       "4      [52704339, 0282876]\n",
       "              ...         \n",
       "299                 [1, 0]\n",
       "300                 [1, 0]\n",
       "301                 [1, 0]\n",
       "302                 [1, 0]\n",
       "303                 [1, 0]\n",
       "Name: ID, Length: 304, dtype: object"
      ]
     },
     "execution_count": 13,
     "metadata": {},
     "output_type": "execute_result"
    }
   ],
   "source": [
    "turnover_data['ID'].astype(str).str.split('.')"
   ]
  },
  {
   "cell_type": "code",
   "execution_count": 40,
   "id": "bfd72359",
   "metadata": {},
   "outputs": [],
   "source": [
    "def get_salary_change(userid, current_date):\n",
    "    salary_features = {}\n",
    "    salary_data = cr_src[(cr_src['ID'] == userid) & (current_date > cr_src['Hire Date'])]\n",
    "    if len(salary_data) > 0:\n",
    "        recent_cr = salary_data.sort_values(by='Hire Date', ascending=False)['Compa Ratio'].tolist()[0]  # 最近薪资\n",
    "        recent_cr_change_time = salary_data['Hire Date'].max()\n",
    "\n",
    "        try:\n",
    "            last_cr = salary_data.sort_values(by='Hire Date', ascending=False)['Compa Ratio'].tolist()[1]  # 再之前的薪资\n",
    "            recent_cr_diff = recent_cr - last_cr\n",
    "        except:\n",
    "            last_cr = None\n",
    "            recent_cr_diff = None\n",
    "\n",
    "        salary_features['recent_cr'] = recent_cr\n",
    "        salary_features['days_since_recent_cr_change'] = (pd.to_datetime(current_date) - recent_cr_change_time).days\n",
    "        salary_features['cr_change_times'] = salary_data.shape[0]\n",
    "        salary_features['recent_cr_diff'] = recent_cr_diff\n",
    "    return salary_features\n",
    "\n",
    "\n",
    "def get_salary_features(fte):\n",
    "    # 获取salary的标签\n",
    "    final_data = []\n",
    "    for i, item in fte.iterrows():\n",
    "        exist_items = dict(item)\n",
    "        userid = exist_items['ID']\n",
    "        end_date = exist_items['current_year']\n",
    "        salary_features = get_salary_change(userid, end_date)\n",
    "        exist_items.update(salary_features)\n",
    "        final_data.append(exist_items)\n",
    "    final_data = pd.DataFrame(final_data)\n",
    "    final_data['cr_change_vs_term'] = final_data['cr_change_times'] / final_data['on_duty_days'] * 365\n",
    "    return final_data"
   ]
  },
  {
   "cell_type": "code",
   "execution_count": 52,
   "id": "54c03059",
   "metadata": {},
   "outputs": [],
   "source": [
    "turnover_data['used_region_flag'] = turnover_data.apply(lambda x: define_used_region(x), axis=1)\n",
    "turnover_data = turnover_data.query('(used_region_flag > 0) & (LeaveType == \"Termination-Voluntary\")')\n",
    "# turnover_data = turnover_data.query('ID != 52710485.7444984')     # onboardDate数据错误\n",
    "turnover_data['OnboardDate'] = pd.to_datetime(turnover_data['OnboardDate'].astype(str))\n",
    "turnover_data['LastWorkingdate'] = pd.to_datetime(turnover_data['LastWorkingdate'])\n",
    "turnover_data['current_year'] = turnover_data['LastWorkingdate'] - datetime.timedelta(days=31*6)\n",
    "turnover_data['on_duty_days'] = (turnover_data['current_year'] - turnover_data['OnboardDate']).dt.days    # 截止到半年前已经就职了多少天\n",
    "turnover_data['current_year'] = turnover_data['current_year'].dt.strftime(\"%Y-%m-%d\")\n",
    "turnover_data2 = get_salary_features(turnover_data)"
   ]
  },
  {
   "cell_type": "code",
   "execution_count": 53,
   "id": "a4e41152",
   "metadata": {},
   "outputs": [],
   "source": [
    "turnover_data2.to_excel('data/check/check_cr.xlsx', index=False)"
   ]
  },
  {
   "cell_type": "code",
   "execution_count": 46,
   "id": "b257645d",
   "metadata": {},
   "outputs": [],
   "source": [
    "cr_src.to_excel('data/check/cr_src.xlsx',index=False)"
   ]
  },
  {
   "cell_type": "code",
   "execution_count": null,
   "id": "989c91b5",
   "metadata": {},
   "outputs": [],
   "source": []
  }
 ],
 "metadata": {
  "kernelspec": {
   "display_name": "Python 3 (ipykernel)",
   "language": "python",
   "name": "python3"
  },
  "language_info": {
   "codemirror_mode": {
    "name": "ipython",
    "version": 3
   },
   "file_extension": ".py",
   "mimetype": "text/x-python",
   "name": "python",
   "nbconvert_exporter": "python",
   "pygments_lexer": "ipython3",
   "version": "3.10.9"
  }
 },
 "nbformat": 4,
 "nbformat_minor": 5
}
