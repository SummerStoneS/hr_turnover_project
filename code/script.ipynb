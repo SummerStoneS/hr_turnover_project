{
 "cells": [
  {
   "cell_type": "code",
   "execution_count": 1,
   "id": "84455b24",
   "metadata": {
    "scrolled": false
   },
   "outputs": [
    {
     "name": "stdout",
     "output_type": "stream",
     "text": [
      "data/org_data\\2018_Namelist&OM Report_procurement.xlsx\n",
      "data/org_data\\2019_Namelist&OM Report_procurement.xlsx\n",
      "data/org_data\\2020_Namelist&OM Report_procurement.xlsx\n",
      "data/org_data\\2021_Namelist&OM Report_procurement.xlsx\n",
      "data/org_data\\2022_Namelist&OM Report_procurement.xlsx\n",
      "data\\Turnover Report_Procurement_201812_Final.xlsx\n",
      "data\\Turnover Report_Procurement_201912_Final.xlsx\n",
      "data\\Turnover Report_Procurement_202012-final-exclude DGO.xlsx\n",
      "data\\Turnover Report_Procurement_202112.xlsx\n",
      "data\\Turnover Report_Procurement_202212.xlsx\n",
      "data\\Turnover Report_Procurement_202310 APAC.xlsx\n"
     ]
    }
   ],
   "source": [
    "import pandas as pd\n",
    "import time\n",
    "import datetime\n",
    "import re\n",
    "import glob\n",
    "import numpy as np\n",
    "from sklearn.metrics import roc_auc_score, confusion_matrix, roc_curve\n",
    "from sklearn.model_selection import train_test_split\n",
    "from catboost import CatBoostClassifier\n",
    "import pickle\n",
    "import json\n",
    "from tools import *\n",
    "from required_data_src import *"
   ]
  },
  {
   "cell_type": "code",
   "execution_count": 20,
   "id": "575c9f76",
   "metadata": {},
   "outputs": [],
   "source": [
    "# 薪资数据ID是有重复的，有人有多次变动\n",
    "# duplicates = cr_src.groupby('ID')['Gender'].count()[cr_src.groupby('ID')['Gender'].count() > 1]"
   ]
  },
  {
   "cell_type": "code",
   "execution_count": 23,
   "id": "81c1f512",
   "metadata": {},
   "outputs": [],
   "source": [
    "# cr_src = get_cr_src(runtime=2)\n",
    "# org_data = get_org_data(runtime=2)\n",
    "# turnover_data = get_turnover_data(runtime=2)"
   ]
  },
  {
   "cell_type": "markdown",
   "id": "32149f98",
   "metadata": {},
   "source": [
    "### Data preprocess\n",
    "#### 离职数据"
   ]
  },
  {
   "cell_type": "code",
   "execution_count": 3,
   "id": "bcd50347",
   "metadata": {},
   "outputs": [],
   "source": [
    "# turnover_data = get_turnover_data(runtime=2)\n",
    "turnover_data['used_region_flag'] = turnover_data.apply(lambda x: define_used_region(x), axis=1)\n",
    "turnover_data = turnover_data.query('(used_region_flag > 0) & (LeaveType == \"Termination-Voluntary\")')\n",
    "turnover_data = turnover_data.query('ID != \"52710485-744498\"')     # onboardDate数据错误\n",
    "\n",
    "turnover_data['OnboardDate'] = pd.to_datetime(turnover_data['OnboardDate'].astype(str))\n",
    "turnover_data['LastWorkingdate'] = pd.to_datetime(turnover_data['LastWorkingdate'])\n",
    "turnover_data['duration'] = (turnover_data['LastWorkingdate'] - turnover_data['OnboardDate']).dt.days   # \n",
    "turnover_data = turnover_data.query(\"~((PAID == 7109) & (Age == 35))\")   # 有一个ID在离职表里是重复的，没有真的离职，从7109变成了CN21，而且还升职了\n",
    "remove_id = movement_src.query(\"ReasonofChange == 'Repatriate-Return to Home'\")['ID'].tolist()\n",
    "turnover_data = turnover_data[~turnover_data['ID'].isin(remove_id)]     #这个情况也不是主动离职\n",
    "turnover_data['Band_V'] = turnover_data['Band_V'].map(lambda x: re.sub(r'-A|-B','',x))"
   ]
  },
  {
   "cell_type": "code",
   "execution_count": 4,
   "id": "4b9647d0",
   "metadata": {
    "scrolled": true
   },
   "outputs": [],
   "source": [
    "turnover_data['current_band'] = turnover_data['Band_V'].replace(roam_to_num_dict)      # 当前职级\n",
    "# turnover_data['current_year'] = '2023-10-31'     # 截止到2023.10.31的时候已经不是fte了\n",
    "turnover_data['current_year'] = turnover_data['LastWorkingdate'] - datetime.timedelta(days=31*6)\n",
    "turnover_data['is_fte'] = 0                      # FTE数据标签（负样本）\n",
    "turnover_data['on_duty_days'] = (turnover_data['current_year'] - turnover_data['OnboardDate']).dt.days    # 截止到半年前已经就职了多少天\n",
    "turnover_data['current_year'] = turnover_data['current_year'].dt.strftime(\"%Y-%m-%d\")"
   ]
  },
  {
   "cell_type": "code",
   "execution_count": 5,
   "id": "911e7ae0",
   "metadata": {},
   "outputs": [],
   "source": [
    "fte_used_columns = ['ID', 'Age', 'Gender', 'PAID', 'MacroEntity', 'positionName', 'OnboardDate', 'duration', \n",
    "                    'current_year', 'is_fte', 'current_band', 'on_duty_days']\n",
    "turnover_used_columns = fte_used_columns + ['LastWorkingdate']\n",
    "turnover_data = turnover_data[turnover_used_columns]"
   ]
  },
  {
   "cell_type": "code",
   "execution_count": 6,
   "id": "648a5cf2",
   "metadata": {},
   "outputs": [],
   "source": [
    "final_turnover_data = get_one_fte_snapshot(turnover_data)     # 获取movement的标签\n",
    "for i, year in enumerate([2022, 2021, 2020, 2019, 2018]):\n",
    "    turnover = turnover_data.copy()\n",
    "    turnover['current_year'] = f'{year}-12-31'\n",
    "    # LastWorkingdate 要大于 current + 6months\n",
    "    current_lag_6_date = datetime.datetime(*time.strptime(f'{year}-12-31', '%Y-%m-%d')[:6]) + datetime.timedelta(days=31*6)\n",
    "    current_lag_6_date_str = current_lag_6_date.strftime('%Y-%m-%d')\n",
    "    turnover.query(\"(OnboardDate <= current_year) & (LastWorkingdate > @current_lag_6_date_str)\")\n",
    "    turnover['duration'] = (turnover['LastWorkingdate'] - turnover['OnboardDate']).dt.days\n",
    "    turnover['on_duty_days'] = (pd.to_datetime(turnover['current_year']) - turnover['OnboardDate']).dt.days\n",
    "    turnover['Age'] = turnover['Age'] - i - 1\n",
    "    turnover['is_fte'] = 1\n",
    "    turnover = get_one_fte_snapshot(turnover)\n",
    "    final_turnover_data = pd.concat([final_turnover_data, turnover])\n",
    "final_turnover_data['src_file'] = 'turnover'     # 标记这部分数据来自于turnover"
   ]
  },
  {
   "cell_type": "markdown",
   "id": "a05949a6",
   "metadata": {},
   "source": [
    "#### 在职员工数据"
   ]
  },
  {
   "cell_type": "code",
   "execution_count": 8,
   "id": "5d3a920d",
   "metadata": {},
   "outputs": [],
   "source": [
    "# TODO 对于预测数据，是要把on_duty_days的计算时间改成10.31"
   ]
  },
  {
   "cell_type": "code",
   "execution_count": 220,
   "id": "a4be288e",
   "metadata": {},
   "outputs": [],
   "source": [
    "fte = pd.read_excel('data/Turnover Report_Procurement_202310 APAC.xlsx', sheet_name='FTE') # 截止到2023年10月底的在职员工数据\n",
    "fte['ID'] = fte['ID'].astype(str).str.split('.').apply(\n",
    "            lambda x: \"-\".join([str(list(x)[0]), str(list(x)[1])[:6]]))"
   ]
  },
  {
   "cell_type": "code",
   "execution_count": 347,
   "id": "2a4ff19b",
   "metadata": {},
   "outputs": [
    {
     "data": {
      "text/plain": [
       "Age                               0\n",
       "Gender                            0\n",
       "on_duty_days                      0\n",
       "move_up_times                     0\n",
       "days_since_recent_move_up       287\n",
       "move_down_times                   0\n",
       "days_since_recent_demotion      387\n",
       "other_move_times                  0\n",
       "days_since_recent_other_move    205\n",
       "end_of_date_band                  0\n",
       "end_of_date_position              0\n",
       "end_of_date_MacroEntity           0\n",
       "end_of_date_paid                  0\n",
       "year                              0\n",
       "Employee Engagement Index       259\n",
       "Manager Effectiveness Index     259\n",
       "recent_cr                       108\n",
       "days_since_recent_cr_change     108\n",
       "cr_change_times                 108\n",
       "recent_cr_diff                  167\n",
       "cr_change_vs_term               108\n",
       "Organizational Unit               0\n",
       "Line Manager ID                   0\n",
       "Job Family                        0\n",
       "员工子组(OM)                          0\n",
       "工作地 ID(OM)                        0\n",
       "Functional Area                   0\n",
       "dtype: int64"
      ]
     },
     "execution_count": 347,
     "metadata": {},
     "output_type": "execute_result"
    }
   ],
   "source": [
    "X_train.isnull().sum()"
   ]
  },
  {
   "cell_type": "code",
   "execution_count": 222,
   "id": "f7690de2",
   "metadata": {
    "scrolled": true
   },
   "outputs": [
    {
     "name": "stderr",
     "output_type": "stream",
     "text": [
      "C:\\Users\\28079083\\AppData\\Local\\Temp\\ipykernel_14288\\1607361849.py:3: SettingWithCopyWarning: \n",
      "A value is trying to be set on a copy of a slice from a DataFrame\n",
      "\n",
      "See the caveats in the documentation: https://pandas.pydata.org/pandas-docs/stable/user_guide/indexing.html#returning-a-view-versus-a-copy\n",
      "  fte.rename(columns={'LegalEntity': 'PAID', 'PositionName_EN':'positionName',\n",
      "C:\\Users\\28079083\\AppData\\Local\\Temp\\ipykernel_14288\\1607361849.py:6: SettingWithCopyWarning: \n",
      "A value is trying to be set on a copy of a slice from a DataFrame.\n",
      "Try using .loc[row_indexer,col_indexer] = value instead\n",
      "\n",
      "See the caveats in the documentation: https://pandas.pydata.org/pandas-docs/stable/user_guide/indexing.html#returning-a-view-versus-a-copy\n",
      "  fte['used_region_flag'] = fte.apply(lambda x: define_used_region(x), axis=1)\n"
     ]
    }
   ],
   "source": [
    "used_columns = item_def['FTE'].dropna().tolist()\n",
    "fte = fte[used_columns]\n",
    "fte.rename(columns={'LegalEntity': 'PAID', 'PositionName_EN':'positionName', \n",
    "                    'OnboardDate_Group': 'OnboardDate', 'PersBand':'Band_V',\n",
    "                    'AGE':'Age', 'EmployeeID':'ID'}, inplace=True)\n",
    "fte['used_region_flag'] = fte.apply(lambda x: define_used_region(x), axis=1)\n",
    "fte = fte.query('used_region_flag > 0')\n",
    "fte['OnboardDate'] = pd.to_datetime(fte['OnboardDate'])\n",
    "fte['duration'] = (pd.to_datetime('2023-10-31') - fte['OnboardDate']).dt.days       # 半年后2023-10-31还在，按照半年前4月底做feature\n",
    "fte['on_duty_days'] = (pd.to_datetime('2023-04-30') - fte['OnboardDate']).dt.days\n",
    "# fte数据要每年做出来一波还在职的作为数据集\n",
    "fte['current_year'] = '2023-04-30'\n",
    "fte['is_fte'] = 1                      # FTE数据标签\n",
    "fte['current_band'] = fte['Band_V'].replace(roam_to_num_dict)      # 当前职级"
   ]
  },
  {
   "cell_type": "code",
   "execution_count": 223,
   "id": "73ddf7a5",
   "metadata": {},
   "outputs": [],
   "source": [
    "fte_used_columns = ['ID', 'Age', 'Gender', 'PAID', 'MacroEntity', 'positionName', 'OnboardDate', 'duration', \n",
    "                    'current_year', 'is_fte', 'current_band', 'on_duty_days']\n",
    "fte = fte[fte_used_columns]"
   ]
  },
  {
   "cell_type": "code",
   "execution_count": 9,
   "id": "e193a581",
   "metadata": {},
   "outputs": [],
   "source": [
    "final_fte = get_one_fte_snapshot(fte)\n",
    "for i, year in enumerate([2022, 2021, 2020, 2019]):\n",
    "    fte2022 = fte.copy()\n",
    "    fte2022['current_year'] = f'{year}-12-31'\n",
    "    fte2022.query(\"OnboardDate <= current_year\")\n",
    "    fte2022['on_duty_days'] = (pd.to_datetime(fte2022['current_year']) - fte['OnboardDate']).dt.days\n",
    "    fte2022['duration'] = (pd.to_datetime('2023-10-31') - fte['OnboardDate']).dt.days    \n",
    "    fte2022['Age'] = fte2022['Age'] - i - 1\n",
    "    fte2022 = get_one_fte_snapshot(fte2022)\n",
    "    final_fte = pd.concat([final_fte, fte2022])\n",
    "final_fte['src_file'] = 'fte'"
   ]
  },
  {
   "cell_type": "markdown",
   "id": "c7f160cc",
   "metadata": {},
   "source": [
    "#### 合并离职员工和在职员工的训练数据"
   ]
  },
  {
   "cell_type": "code",
   "execution_count": 340,
   "id": "2f1e6551",
   "metadata": {},
   "outputs": [
    {
     "name": "stderr",
     "output_type": "stream",
     "text": [
      "C:\\Users\\28079083\\AppData\\Local\\Temp\\ipykernel_14288\\2696626184.py:8: SettingWithCopyWarning: \n",
      "A value is trying to be set on a copy of a slice from a DataFrame\n",
      "\n",
      "See the caveats in the documentation: https://pandas.pydata.org/pandas-docs/stable/user_guide/indexing.html#returning-a-view-versus-a-copy\n",
      "  missing_org_data.drop(set(org_data_use_columns) - set({'ID'}), axis=1, inplace=True)\n"
     ]
    }
   ],
   "source": [
    "data_combined = pd.concat([final_fte, final_turnover_data])\n",
    "data_combined.drop('LastWorkingdate', axis=1, inplace=True)    # 正样本955， 负样本97\n",
    "train_data = add_more_features(data_combined)\n",
    "# train_data.to_excel('step_data/train_data.xlsx', index=False)\n",
    "train_data.to_excel('step_data/train_data.xlsx', index=False)"
   ]
  },
  {
   "cell_type": "code",
   "execution_count": null,
   "id": "082e91ac",
   "metadata": {},
   "outputs": [],
   "source": [
    "train_data.isnull().sum()"
   ]
  },
  {
   "cell_type": "code",
   "execution_count": 432,
   "id": "6a28962a",
   "metadata": {},
   "outputs": [],
   "source": [
    "# data_combined.groupby('is_fte').agg({'ID': pd.Series.nunique})   # 30%的离职率"
   ]
  },
  {
   "cell_type": "markdown",
   "id": "4263f092",
   "metadata": {},
   "source": [
    "#### 在职员工的预测数据"
   ]
  },
  {
   "cell_type": "code",
   "execution_count": 303,
   "id": "21c2c78b",
   "metadata": {},
   "outputs": [],
   "source": [
    "forecast_fte = fte.copy()\n",
    "forecast_fte['current_year'] = '2023-10-31'\n",
    "forecast_fte['on_duty_days'] = (pd.to_datetime('2023-10-31') - forecast_fte['OnboardDate']).dt.days\n",
    "forecast_fte = get_one_fte_snapshot(forecast_fte)\n",
    "forecast_fte = add_more_features_forecast(forecast_fte)\n",
    "forecast_fte.to_excel('model_data/forecast_fte.xlsx', index=False)"
   ]
  },
  {
   "cell_type": "code",
   "execution_count": 82,
   "id": "e02e70c4",
   "metadata": {},
   "outputs": [],
   "source": [
    "# train_data[train_data['Job Family'].isnull()].drop_duplicates(subset=['ID']).to_excel('data/check/org_data_check.xlsx', index=False)"
   ]
  },
  {
   "cell_type": "markdown",
   "id": "87618cbd",
   "metadata": {},
   "source": [
    "### modeling"
   ]
  },
  {
   "cell_type": "code",
   "execution_count": 341,
   "id": "003920ee",
   "metadata": {},
   "outputs": [],
   "source": [
    "model_used_features = pd.read_excel('模型标签.xlsx')['column'].tolist()\n",
    "categorical_features = ['Gender',  'end_of_date_position','end_of_date_MacroEntity','end_of_date_paid',\n",
    "                        'Organizational Unit','Line Manager ID', 'Job Family', '员工子组(OM)', '工作地 ID(OM)','Functional Area']"
   ]
  },
  {
   "cell_type": "code",
   "execution_count": 342,
   "id": "dbe3029c",
   "metadata": {},
   "outputs": [],
   "source": [
    "def get_modeling_train_dataset(train_data, save_train=False):\n",
    "    train_data2 = train_data[(train_data['recent_cr'].notnull())]\n",
    "    print(\"Initial turnover records ratio: {:.2%}\".format(train_data2['is_fte'].value_counts()[0] / train_data2['is_fte'].value_counts().sum()))   \n",
    "    train_fte_trunc = train_data.query('is_fte == 1').sample(n=400, random_state=56)            # 让train data的离职人占比20%\n",
    "    train_data_sub = pd.concat([train_fte_trunc, train_data.query('is_fte == 0')])\n",
    "    train_data_sub = train_data_sub.reset_index(drop=True)\n",
    "    train_data_sub = train_data_sub[model_used_features]\n",
    "    train_data_sub['y'] = 1 - train_data_sub['is_fte']    # y是半年后是否离职，还有一种是y=duration\n",
    "    if save_train:\n",
    "        train_data_sub.to_excel(\"model_data/train.xlsx\")\n",
    "    for col in categorical_features:\n",
    "        train_data_sub[col] = train_data_sub[col].astype(str)\n",
    "        train_data_sub[col] = train_data_sub[col].fillna('NA')\n",
    "    return train_data_sub"
   ]
  },
  {
   "cell_type": "code",
   "execution_count": 343,
   "id": "6c8c97fb",
   "metadata": {
    "scrolled": true
   },
   "outputs": [
    {
     "name": "stdout",
     "output_type": "stream",
     "text": [
      "Initial turnover records ratio: 8.36%\n",
      "train turnover ratio: 17.27%\n",
      "test turnover ratio: 18.56%\n"
     ]
    }
   ],
   "source": [
    "train_data_sub = get_modeling_train_dataset(train_data, save_train=False)\n",
    "X = train_data_sub.drop(['ID', 'duration', 'is_fte', 'y'], axis=1)\n",
    "y = train_data_sub['y']\n",
    "X_train, X_test, y_train, y_test = train_test_split(X, y, test_size=0.2, random_state=65)\n",
    "print(\"train turnover ratio: {:.2%}\".format(y_train.value_counts()[1] / y_train.value_counts().sum()))\n",
    "print(\"test turnover ratio: {:.2%}\".format(y_test.value_counts()[1] / y_test.value_counts().sum()))"
   ]
  },
  {
   "cell_type": "code",
   "execution_count": 344,
   "id": "77e77ea4",
   "metadata": {},
   "outputs": [
    {
     "data": {
      "text/plain": [
       "0.9064697609001406"
      ]
     },
     "execution_count": 344,
     "metadata": {},
     "output_type": "execute_result"
    }
   ],
   "source": [
    "model = CatBoostClassifier(**params)\n",
    "model.fit(X_train, y_train,eval_set=[(X_train, y_train),(X_test,y_test)],cat_features=categorical_features)\n",
    "test_pred = [pred[1] for pred in  model.predict_proba(X_test)]\n",
    "test_auc= roc_auc_score(list(y_test), test_pred)\n",
    "test_auc"
   ]
  },
  {
   "cell_type": "code",
   "execution_count": 345,
   "id": "2fd8b792",
   "metadata": {},
   "outputs": [
    {
     "data": {
      "text/html": [
       "<div>\n",
       "<style scoped>\n",
       "    .dataframe tbody tr th:only-of-type {\n",
       "        vertical-align: middle;\n",
       "    }\n",
       "\n",
       "    .dataframe tbody tr th {\n",
       "        vertical-align: top;\n",
       "    }\n",
       "\n",
       "    .dataframe thead th {\n",
       "        text-align: right;\n",
       "    }\n",
       "</style>\n",
       "<table border=\"1\" class=\"dataframe\">\n",
       "  <thead>\n",
       "    <tr style=\"text-align: right;\">\n",
       "      <th></th>\n",
       "      <th>1</th>\n",
       "      <th>0</th>\n",
       "      <th>tpr</th>\n",
       "      <th>fpr</th>\n",
       "    </tr>\n",
       "  </thead>\n",
       "  <tbody>\n",
       "    <tr>\n",
       "      <th>1</th>\n",
       "      <td>15</td>\n",
       "      <td>3</td>\n",
       "      <td>0.833333</td>\n",
       "      <td>0.159292</td>\n",
       "    </tr>\n",
       "    <tr>\n",
       "      <th>0</th>\n",
       "      <td>14</td>\n",
       "      <td>65</td>\n",
       "      <td>0.177215</td>\n",
       "      <td>0.820943</td>\n",
       "    </tr>\n",
       "  </tbody>\n",
       "</table>\n",
       "</div>"
      ],
      "text/plain": [
       "    1   0       tpr       fpr\n",
       "1  15   3  0.833333  0.159292\n",
       "0  14  65  0.177215  0.820943"
      ]
     },
     "execution_count": 345,
     "metadata": {},
     "output_type": "execute_result"
    }
   ],
   "source": [
    "threshold = 0.3\n",
    "confusion_mat = confusion_matrix(y_test.tolist(), [int(x > threshold) for x in test_pred])\n",
    "confusionMatrix = pd.DataFrame(confusion_mat, columns=[0, 1], index=[0, 1]). \\\n",
    "    sort_index(axis=0, ascending=False).sort_index(axis=1, ascending=False)\n",
    "confusionMatrix[\"tpr\"] = confusionMatrix[1] / confusionMatrix.sum(axis=1)\n",
    "confusionMatrix[\"fpr\"] = confusionMatrix[0] / confusionMatrix.sum(axis=1)\n",
    "confusionMatrix"
   ]
  },
  {
   "cell_type": "code",
   "execution_count": 90,
   "id": "8ad710f3",
   "metadata": {},
   "outputs": [],
   "source": [
    "params={\n",
    "    'loss_function': 'Logloss', # 损失函数，取值RMSE, Logloss, MAE, CrossEntropy, Quantile, LogLinQuantile, Multiclass, MultiClassOneVsAll, MAPE, Poisson。默认Logloss。\n",
    "    'custom_loss': 'AUC', # 训练过程中计算显示的损失函数，取值Logloss、CrossEntropy、Precision、Recall、F、F1、BalancedAccuracy、AUC等等\n",
    "    'eval_metric': 'AUC', # 用于过度拟合检测和最佳模型选择的指标，取值范围同custom_loss\n",
    "    'iterations': 40, # 最大迭代次数，默认500. 别名：num_boost_round, n_estimators, num_trees\n",
    "    'learning_rate': 0.3, # 学习速率,默认0.03 别名：eta\n",
    "    'random_seed': 23, # 训练的随机种子，别名：random_state\n",
    "#     'l2_leaf_reg': 5, # l2正则项，别名：reg_lambda\n",
    "    'bootstrap_type': 'Bernoulli', # 确定抽样时的样本权重，取值Bayesian、Bernoulli(伯努利实验)、MVS(仅支持cpu)、Poisson(仅支持gpu)、No（取值为No时，每棵树为简单随机抽样）;默认值GPU下为Bayesian、CPU下为MVS\n",
    "#     'bagging_temperature': 0,  # bootstrap_type=Bayesian时使用,取值为1时采样权重服从指数分布；取值为0时所有采样权重均等于1。取值范围[0，inf)，值越大、bagging就越激进\n",
    "#     'subsample': 0.6, # 样本采样比率（行采样）\n",
    "    'sampling_frequency': 'PerTreeLevel', # 采样频率，取值PerTree（在构建每棵新树之前采样）、PerTreeLevel（默认值，在子树的每次分裂之前采样）；仅支持CPU\n",
    "    'use_best_model': True, # 让模型使用效果最优的子树棵树/迭代次数，使用验证集的最优效果对应的迭代次数（eval_metric：评估指标，eval_set：验证集数据），布尔类型可取值0，1（取1时要求设置验证集数据）\n",
    "#     'best_model_min_trees': 50, # 最少子树棵树,和use_best_model一起使用\n",
    "    'depth': 4, # 树深，默认值6\n",
    "    'grow_policy': 'SymmetricTree', # 子树生长策略，取值SymmetricTree（默认值，对称树）、Depthwise（整层生长，同xgb）、Lossguide（叶子结点生长，同lgb）\n",
    "    'min_data_in_leaf': 6, # 叶子结点最小样本量\n",
    "#     'max_leaves': 12, # 最大叶子结点数量\n",
    "#     'one_hot_max_size': 4, # 对唯一值数量<one_hot_max_size的类别型特征使用one-hot编码\n",
    "#     'rsm': 0.6, # 列采样比率，别名colsample_bylevel 取值（0，1],默认值1\n",
    "    'nan_mode': 'Min', # 缺失值处理方法，取值Forbidden（不支持缺失值，输入包含缺失时会报错）、Min（处理为该列的最小值，比原最小值更小）、Max（同理）\n",
    "    'input_borders': None, # 特征数据边界（最大最小边界）、会影响缺失值的处理（nan_mode取值Min、Max时），默认值None、在训练时特征取值的最大最小值即为特征值边界\n",
    "    'boosting_type': 'Ordered', # 提升类型，取值Ordered（catboost特有的排序提升，在小数据集上效果可能更好，但是运行速度较慢）、Plain（经典提升）\n",
    "#     'max_ctr_complexity': 2, # 分类特征交叉的最高阶数，默认值4\n",
    "    'logging_level':'Silent', # 模型训练过程的信息输出等级，取值Silent（不输出信息）、Verbose（默认值，输出评估指标、已训练时间、剩余时间等）、Info（输出额外信息、树的棵树）、Debug（debug信息）\n",
    "    'metric_period': 1, # 计算目标值、评估指标的频率，默认值1、即每次迭代都输出目标值、评估指标\n",
    "#     'early_stopping_rounds': 20,\n",
    "#     'border_count': 254, # 数值型特征的分箱数，别名max_bin，取值范围[1,65535]、默认值254（CPU下), # 设置提前停止训练，在得到最佳的评估结果后、再迭代n（参数值为n）次停止训练，默认值不启用\n",
    "#     'feature_border_type': 'GreedyLogSum', # 数值型特征的分箱方法，取值Median、Uniform、UniformAndQuantiles、MaxLogSum、MinEntropy、GreedyLogSum（默认值）\n",
    "}"
   ]
  },
  {
   "cell_type": "code",
   "execution_count": 87,
   "id": "0ba7531f",
   "metadata": {},
   "outputs": [],
   "source": [
    "model = CatBoostClassifier(**params)\n",
    "model.fit(X_train, y_train,eval_set=[(X_train, y_train),(X_test,y_test)],cat_features=categorical_features)\n",
    "test_pred = [pred[1] for pred in  model.predict_proba(X_test)]\n",
    "test_auc= roc_auc_score(list(y_test), test_pred)\n",
    "test_auc"
   ]
  },
  {
   "cell_type": "code",
   "execution_count": 210,
   "id": "1bf5b7d4",
   "metadata": {},
   "outputs": [],
   "source": [
    "# model result\n",
    "result_save_file = pd.ExcelWriter(\"model_data/model_result.xlsx\")\n",
    "feature_importance = pd.Series(model.feature_importances_, index=X_train.columns, name=\"feature_importance\")\n",
    "feature_importance.sort_values(ascending=False)\n",
    "feature_importance.to_excel(result_save_file, sheet_name='feature_importance')\n",
    "\n",
    "threshold = 0.3\n",
    "confusion_mat = confusion_matrix(y_test.tolist(), [int(x > threshold) for x in test_pred])\n",
    "confusionMatrix = pd.DataFrame(confusion_mat, columns=[0, 1], index=[0, 1]). \\\n",
    "    sort_index(axis=0, ascending=False).sort_index(axis=1, ascending=False)\n",
    "confusionMatrix[\"tpr\"] = confusionMatrix[1]/confusionMatrix.sum(axis=1)\n",
    "confusionMatrix[\"fpr\"] = confusionMatrix[0]/confusionMatrix.sum(axis=1)\n",
    "confusionMatrix.to_excel(result_save_file, sheet_name='confusion_matrix')\n",
    "result_save_file.close()\n",
    "\n",
    "with open(\"model_data/catboost_model.pk\", \"wb\") as f:\n",
    "    pickle.dump(model, f)\n",
    "with open(\"model_data/catboost_model_params.txt\", 'w') as f:\n",
    "    json.dump(params, f)"
   ]
  },
  {
   "cell_type": "markdown",
   "id": "30f822ef",
   "metadata": {},
   "source": [
    "### 预测"
   ]
  },
  {
   "cell_type": "code",
   "execution_count": 304,
   "id": "84c5e032",
   "metadata": {},
   "outputs": [
    {
     "name": "stderr",
     "output_type": "stream",
     "text": [
      "C:\\Users\\28079083\\AppData\\Local\\Temp\\ipykernel_14288\\449253622.py:3: SettingWithCopyWarning: \n",
      "A value is trying to be set on a copy of a slice from a DataFrame.\n",
      "Try using .loc[row_indexer,col_indexer] = value instead\n",
      "\n",
      "See the caveats in the documentation: https://pandas.pydata.org/pandas-docs/stable/user_guide/indexing.html#returning-a-view-versus-a-copy\n",
      "  forecast_data[col] = forecast_data[col].astype(str)\n",
      "C:\\Users\\28079083\\AppData\\Local\\Temp\\ipykernel_14288\\449253622.py:4: SettingWithCopyWarning: \n",
      "A value is trying to be set on a copy of a slice from a DataFrame.\n",
      "Try using .loc[row_indexer,col_indexer] = value instead\n",
      "\n",
      "See the caveats in the documentation: https://pandas.pydata.org/pandas-docs/stable/user_guide/indexing.html#returning-a-view-versus-a-copy\n",
      "  forecast_data[col] = forecast_data[col].fillna('NA')\n"
     ]
    }
   ],
   "source": [
    "forecast_data = forecast_fte[X_train.columns]\n",
    "for col in categorical_features:\n",
    "    forecast_data[col] = forecast_data[col].astype(str)\n",
    "    forecast_data[col] = forecast_data[col].fillna('NA')\n",
    "    \n",
    "predict_proba = [pred[1] for pred in  model.predict_proba(forecast_data)]\n",
    "forecast_result = pd.concat([forecast_fte, pd.Series(predict_proba, name='predict_p', index=forecast_fte.index)], axis=1)\n",
    "forecast_result['turnover_tag'] = forecast_result['predict_p'].apply(lambda x: 1 if x > threshold else 0)\n",
    "forecast_result['turnover_tag'].value_counts()\n",
    "forecast_result.to_excel('model_data/forecast_result2023.xlsx', index=False)"
   ]
  },
  {
   "cell_type": "code",
   "execution_count": 116,
   "id": "cf5e561f",
   "metadata": {},
   "outputs": [],
   "source": [
    "threshold = 0.33\n",
    "confusion_mat = confusion_matrix(y_test.tolist(), [int(x > threshold) for x in test_pred])\n",
    "confusionMatrix = pd.DataFrame(confusion_mat, columns=[0, 1], index=[0, 1]). \\\n",
    "    sort_index(axis=0, ascending=False).sort_index(axis=1, ascending=False)\n",
    "confusionMatrix[\"tpr\"] = confusionMatrix[1] / confusionMatrix.sum(axis=1)\n",
    "confusionMatrix[\"fpr\"] = confusionMatrix[0] / confusionMatrix.sum(axis=1)"
   ]
  },
  {
   "cell_type": "code",
   "execution_count": 308,
   "id": "b20010e4",
   "metadata": {},
   "outputs": [],
   "source": []
  },
  {
   "cell_type": "code",
   "execution_count": null,
   "id": "b4f94852",
   "metadata": {},
   "outputs": [],
   "source": []
  }
 ],
 "metadata": {
  "kernelspec": {
   "display_name": "Python 3 (ipykernel)",
   "language": "python",
   "name": "python3"
  },
  "language_info": {
   "codemirror_mode": {
    "name": "ipython",
    "version": 3
   },
   "file_extension": ".py",
   "mimetype": "text/x-python",
   "name": "python",
   "nbconvert_exporter": "python",
   "pygments_lexer": "ipython3",
   "version": "3.10.9"
  }
 },
 "nbformat": 4,
 "nbformat_minor": 5
}
